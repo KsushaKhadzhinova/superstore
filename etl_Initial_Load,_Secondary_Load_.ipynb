{
  "cells": [
    {
      "cell_type": "markdown",
      "metadata": {
        "id": "view-in-github",
        "colab_type": "text"
      },
      "source": [
        "<a href=\"https://colab.research.google.com/github/KsushaKhadzhinova/superstore/blob/main/etl_Initial_Load%2C_Secondary_Load_.ipynb\" target=\"_parent\"><img src=\"https://colab.research.google.com/assets/colab-badge.svg\" alt=\"Open In Colab\"/></a>"
      ]
    },
    {
      "cell_type": "code",
      "source": [
        "!git clone https://github.com/KsushaKhadzhinova/superstore"
      ],
      "metadata": {
        "colab": {
          "base_uri": "https://localhost:8080/"
        },
        "id": "2f-4QXdwd0ag",
        "outputId": "db56140a-dc55-46ad-8528-e0ce24f51d55"
      },
      "execution_count": 1,
      "outputs": [
        {
          "output_type": "stream",
          "name": "stdout",
          "text": [
            "Cloning into 'superstore'...\n",
            "remote: Enumerating objects: 44, done.\u001b[K\n",
            "remote: Counting objects: 100% (44/44), done.\u001b[K\n",
            "remote: Compressing objects: 100% (36/36), done.\u001b[K\n",
            "remote: Total 44 (delta 13), reused 39 (delta 8), pack-reused 0 (from 0)\u001b[K\n",
            "Receiving objects: 100% (44/44), 4.92 MiB | 43.81 MiB/s, done.\n",
            "Resolving deltas: 100% (13/13), done.\n"
          ]
        }
      ]
    },
    {
      "cell_type": "markdown",
      "source": [
        "imports + save path"
      ],
      "metadata": {
        "id": "dvzEQpF4-dY5"
      }
    },
    {
      "cell_type": "code",
      "source": [
        "import pandas as pd\n",
        "import numpy as np\n",
        "import os\n",
        "from google.colab import files\n",
        "\n",
        "# Path for saving files on your computer\n",
        "save_folder = r\"E:/intern/etl + power bi\"\n",
        "if not os.path.exists(save_folder):\n",
        "    os.makedirs(save_folder)"
      ],
      "metadata": {
        "id": "rREZTCIf7y5Z"
      },
      "execution_count": null,
      "outputs": []
    },
    {
      "cell_type": "markdown",
      "metadata": {
        "id": "rDSOq3KiZ3FZ"
      },
      "source": [
        "load + preprocess data\n",
        "\n",
        "\n",
        "\n",
        "1.   Clean data (handle missing values, remove duplicates)\n",
        "2.   Convert data types (e.g., dates)\n",
        "3.   Encode categorical variables\n",
        "4.   Normalize or scale features\n",
        "5.   Remove outliers\n",
        "\n"
      ]
    },
    {
      "cell_type": "code",
      "execution_count": null,
      "metadata": {
        "colab": {
          "base_uri": "https://localhost:8080/",
          "height": 1000
        },
        "id": "xM_wvFKeYKkG",
        "outputId": "10eccb52-af4a-49d4-f436-092b98c19210"
      },
      "outputs": [
        {
          "output_type": "stream",
          "name": "stdout",
          "text": [
            "Загрузите файл датасета Superstore (CSV):\n"
          ]
        },
        {
          "output_type": "display_data",
          "data": {
            "text/plain": [
              "<IPython.core.display.HTML object>"
            ],
            "text/html": [
              "\n",
              "     <input type=\"file\" id=\"files-269622ae-a03b-47bc-8848-bb4624c3f2ce\" name=\"files[]\" multiple disabled\n",
              "        style=\"border:none\" />\n",
              "     <output id=\"result-269622ae-a03b-47bc-8848-bb4624c3f2ce\">\n",
              "      Upload widget is only available when the cell has been executed in the\n",
              "      current browser session. Please rerun this cell to enable.\n",
              "      </output>\n",
              "      <script>// Copyright 2017 Google LLC\n",
              "//\n",
              "// Licensed under the Apache License, Version 2.0 (the \"License\");\n",
              "// you may not use this file except in compliance with the License.\n",
              "// You may obtain a copy of the License at\n",
              "//\n",
              "//      http://www.apache.org/licenses/LICENSE-2.0\n",
              "//\n",
              "// Unless required by applicable law or agreed to in writing, software\n",
              "// distributed under the License is distributed on an \"AS IS\" BASIS,\n",
              "// WITHOUT WARRANTIES OR CONDITIONS OF ANY KIND, either express or implied.\n",
              "// See the License for the specific language governing permissions and\n",
              "// limitations under the License.\n",
              "\n",
              "/**\n",
              " * @fileoverview Helpers for google.colab Python module.\n",
              " */\n",
              "(function(scope) {\n",
              "function span(text, styleAttributes = {}) {\n",
              "  const element = document.createElement('span');\n",
              "  element.textContent = text;\n",
              "  for (const key of Object.keys(styleAttributes)) {\n",
              "    element.style[key] = styleAttributes[key];\n",
              "  }\n",
              "  return element;\n",
              "}\n",
              "\n",
              "// Max number of bytes which will be uploaded at a time.\n",
              "const MAX_PAYLOAD_SIZE = 100 * 1024;\n",
              "\n",
              "function _uploadFiles(inputId, outputId) {\n",
              "  const steps = uploadFilesStep(inputId, outputId);\n",
              "  const outputElement = document.getElementById(outputId);\n",
              "  // Cache steps on the outputElement to make it available for the next call\n",
              "  // to uploadFilesContinue from Python.\n",
              "  outputElement.steps = steps;\n",
              "\n",
              "  return _uploadFilesContinue(outputId);\n",
              "}\n",
              "\n",
              "// This is roughly an async generator (not supported in the browser yet),\n",
              "// where there are multiple asynchronous steps and the Python side is going\n",
              "// to poll for completion of each step.\n",
              "// This uses a Promise to block the python side on completion of each step,\n",
              "// then passes the result of the previous step as the input to the next step.\n",
              "function _uploadFilesContinue(outputId) {\n",
              "  const outputElement = document.getElementById(outputId);\n",
              "  const steps = outputElement.steps;\n",
              "\n",
              "  const next = steps.next(outputElement.lastPromiseValue);\n",
              "  return Promise.resolve(next.value.promise).then((value) => {\n",
              "    // Cache the last promise value to make it available to the next\n",
              "    // step of the generator.\n",
              "    outputElement.lastPromiseValue = value;\n",
              "    return next.value.response;\n",
              "  });\n",
              "}\n",
              "\n",
              "/**\n",
              " * Generator function which is called between each async step of the upload\n",
              " * process.\n",
              " * @param {string} inputId Element ID of the input file picker element.\n",
              " * @param {string} outputId Element ID of the output display.\n",
              " * @return {!Iterable<!Object>} Iterable of next steps.\n",
              " */\n",
              "function* uploadFilesStep(inputId, outputId) {\n",
              "  const inputElement = document.getElementById(inputId);\n",
              "  inputElement.disabled = false;\n",
              "\n",
              "  const outputElement = document.getElementById(outputId);\n",
              "  outputElement.innerHTML = '';\n",
              "\n",
              "  const pickedPromise = new Promise((resolve) => {\n",
              "    inputElement.addEventListener('change', (e) => {\n",
              "      resolve(e.target.files);\n",
              "    });\n",
              "  });\n",
              "\n",
              "  const cancel = document.createElement('button');\n",
              "  inputElement.parentElement.appendChild(cancel);\n",
              "  cancel.textContent = 'Cancel upload';\n",
              "  const cancelPromise = new Promise((resolve) => {\n",
              "    cancel.onclick = () => {\n",
              "      resolve(null);\n",
              "    };\n",
              "  });\n",
              "\n",
              "  // Wait for the user to pick the files.\n",
              "  const files = yield {\n",
              "    promise: Promise.race([pickedPromise, cancelPromise]),\n",
              "    response: {\n",
              "      action: 'starting',\n",
              "    }\n",
              "  };\n",
              "\n",
              "  cancel.remove();\n",
              "\n",
              "  // Disable the input element since further picks are not allowed.\n",
              "  inputElement.disabled = true;\n",
              "\n",
              "  if (!files) {\n",
              "    return {\n",
              "      response: {\n",
              "        action: 'complete',\n",
              "      }\n",
              "    };\n",
              "  }\n",
              "\n",
              "  for (const file of files) {\n",
              "    const li = document.createElement('li');\n",
              "    li.append(span(file.name, {fontWeight: 'bold'}));\n",
              "    li.append(span(\n",
              "        `(${file.type || 'n/a'}) - ${file.size} bytes, ` +\n",
              "        `last modified: ${\n",
              "            file.lastModifiedDate ? file.lastModifiedDate.toLocaleDateString() :\n",
              "                                    'n/a'} - `));\n",
              "    const percent = span('0% done');\n",
              "    li.appendChild(percent);\n",
              "\n",
              "    outputElement.appendChild(li);\n",
              "\n",
              "    const fileDataPromise = new Promise((resolve) => {\n",
              "      const reader = new FileReader();\n",
              "      reader.onload = (e) => {\n",
              "        resolve(e.target.result);\n",
              "      };\n",
              "      reader.readAsArrayBuffer(file);\n",
              "    });\n",
              "    // Wait for the data to be ready.\n",
              "    let fileData = yield {\n",
              "      promise: fileDataPromise,\n",
              "      response: {\n",
              "        action: 'continue',\n",
              "      }\n",
              "    };\n",
              "\n",
              "    // Use a chunked sending to avoid message size limits. See b/62115660.\n",
              "    let position = 0;\n",
              "    do {\n",
              "      const length = Math.min(fileData.byteLength - position, MAX_PAYLOAD_SIZE);\n",
              "      const chunk = new Uint8Array(fileData, position, length);\n",
              "      position += length;\n",
              "\n",
              "      const base64 = btoa(String.fromCharCode.apply(null, chunk));\n",
              "      yield {\n",
              "        response: {\n",
              "          action: 'append',\n",
              "          file: file.name,\n",
              "          data: base64,\n",
              "        },\n",
              "      };\n",
              "\n",
              "      let percentDone = fileData.byteLength === 0 ?\n",
              "          100 :\n",
              "          Math.round((position / fileData.byteLength) * 100);\n",
              "      percent.textContent = `${percentDone}% done`;\n",
              "\n",
              "    } while (position < fileData.byteLength);\n",
              "  }\n",
              "\n",
              "  // All done.\n",
              "  yield {\n",
              "    response: {\n",
              "      action: 'complete',\n",
              "    }\n",
              "  };\n",
              "}\n",
              "\n",
              "scope.google = scope.google || {};\n",
              "scope.google.colab = scope.google.colab || {};\n",
              "scope.google.colab._files = {\n",
              "  _uploadFiles,\n",
              "  _uploadFilesContinue,\n",
              "};\n",
              "})(self);\n",
              "</script> "
            ]
          },
          "metadata": {}
        },
        {
          "output_type": "stream",
          "name": "stdout",
          "text": [
            "Saving Sample - Superstore.csv to Sample - Superstore (8).csv\n",
            "Файл загружен: Sample - Superstore (8).csv\n",
            "\n",
            "Первые 5 строк:\n",
            "   Row ID        Order ID  Order Date   Ship Date       Ship Mode Customer ID  \\\n",
            "0       1  CA-2016-152156   11/8/2016  11/11/2016    Second Class    CG-12520   \n",
            "1       2  CA-2016-152156   11/8/2016  11/11/2016    Second Class    CG-12520   \n",
            "2       3  CA-2016-138688   6/12/2016   6/16/2016    Second Class    DV-13045   \n",
            "3       4  US-2015-108966  10/11/2015  10/18/2015  Standard Class    SO-20335   \n",
            "4       5  US-2015-108966  10/11/2015  10/18/2015  Standard Class    SO-20335   \n",
            "\n",
            "     Customer Name    Segment        Country             City  ...  \\\n",
            "0      Claire Gute   Consumer  United States        Henderson  ...   \n",
            "1      Claire Gute   Consumer  United States        Henderson  ...   \n",
            "2  Darrin Van Huff  Corporate  United States      Los Angeles  ...   \n",
            "3   Sean O'Donnell   Consumer  United States  Fort Lauderdale  ...   \n",
            "4   Sean O'Donnell   Consumer  United States  Fort Lauderdale  ...   \n",
            "\n",
            "  Postal Code  Region       Product ID         Category Sub-Category  \\\n",
            "0       42420   South  FUR-BO-10001798        Furniture    Bookcases   \n",
            "1       42420   South  FUR-CH-10000454        Furniture       Chairs   \n",
            "2       90036    West  OFF-LA-10000240  Office Supplies       Labels   \n",
            "3       33311   South  FUR-TA-10000577        Furniture       Tables   \n",
            "4       33311   South  OFF-ST-10000760  Office Supplies      Storage   \n",
            "\n",
            "                                        Product Name     Sales  Quantity  \\\n",
            "0                  Bush Somerset Collection Bookcase  261.9600         2   \n",
            "1  Hon Deluxe Fabric Upholstered Stacking Chairs,...  731.9400         3   \n",
            "2  Self-Adhesive Address Labels for Typewriters b...   14.6200         2   \n",
            "3      Bretford CR4500 Series Slim Rectangular Table  957.5775         5   \n",
            "4                     Eldon Fold 'N Roll Cart System   22.3680         2   \n",
            "\n",
            "   Discount    Profit  \n",
            "0      0.00   41.9136  \n",
            "1      0.00  219.5820  \n",
            "2      0.00    6.8714  \n",
            "3      0.45 -383.0310  \n",
            "4      0.20    2.5164  \n",
            "\n",
            "[5 rows x 21 columns]\n",
            "\n",
            "Информация о структуре и типах данных:\n",
            "<class 'pandas.core.frame.DataFrame'>\n",
            "RangeIndex: 9994 entries, 0 to 9993\n",
            "Data columns (total 21 columns):\n",
            " #   Column         Non-Null Count  Dtype  \n",
            "---  ------         --------------  -----  \n",
            " 0   Row ID         9994 non-null   int64  \n",
            " 1   Order ID       9994 non-null   object \n",
            " 2   Order Date     9994 non-null   object \n",
            " 3   Ship Date      9994 non-null   object \n",
            " 4   Ship Mode      9994 non-null   object \n",
            " 5   Customer ID    9994 non-null   object \n",
            " 6   Customer Name  9994 non-null   object \n",
            " 7   Segment        9994 non-null   object \n",
            " 8   Country        9994 non-null   object \n",
            " 9   City           9994 non-null   object \n",
            " 10  State          9994 non-null   object \n",
            " 11  Postal Code    9994 non-null   int64  \n",
            " 12  Region         9994 non-null   object \n",
            " 13  Product ID     9994 non-null   object \n",
            " 14  Category       9994 non-null   object \n",
            " 15  Sub-Category   9994 non-null   object \n",
            " 16  Product Name   9994 non-null   object \n",
            " 17  Sales          9994 non-null   float64\n",
            " 18  Quantity       9994 non-null   int64  \n",
            " 19  Discount       9994 non-null   float64\n",
            " 20  Profit         9994 non-null   float64\n",
            "dtypes: float64(3), int64(3), object(15)\n",
            "memory usage: 1.6+ MB\n",
            "None\n",
            "\n",
            "Количество пропусков по столбцам:\n",
            "Row ID           0\n",
            "Order ID         0\n",
            "Order Date       0\n",
            "Ship Date        0\n",
            "Ship Mode        0\n",
            "Customer ID      0\n",
            "Customer Name    0\n",
            "Segment          0\n",
            "Country          0\n",
            "City             0\n",
            "State            0\n",
            "Postal Code      0\n",
            "Region           0\n",
            "Product ID       0\n",
            "Category         0\n",
            "Sub-Category     0\n",
            "Product Name     0\n",
            "Sales            0\n",
            "Quantity         0\n",
            "Discount         0\n",
            "Profit           0\n",
            "dtype: int64\n",
            "\n",
            "Уникальные значения в Order Date и Ship Date (первые 5):\n",
            "['11/8/2016' '6/12/2016' '10/11/2015' '6/9/2014' '4/15/2017']\n",
            "['11/11/2016' '6/16/2016' '10/18/2015' '6/14/2014' '4/20/2017']\n",
            "\n",
            "Даты после преобразования:\n",
            "  Order Date  Ship Date\n",
            "0 2016-11-08 2016-11-11\n",
            "1 2016-11-08 2016-11-11\n",
            "2 2016-06-12 2016-06-16\n",
            "3 2015-10-11 2015-10-18\n",
            "4 2015-10-11 2015-10-18\n"
          ]
        },
        {
          "output_type": "stream",
          "name": "stderr",
          "text": [
            "/tmp/ipython-input-1853856825.py:24: UserWarning: The argument 'infer_datetime_format' is deprecated and will be removed in a future version. A strict version of it is now the default, see https://pandas.pydata.org/pdeps/0004-consistent-to-datetime-parsing.html. You can safely remove this argument.\n",
            "  df['Order Date'] = pd.to_datetime(df['Order Date'], errors='coerce', infer_datetime_format=True)\n",
            "/tmp/ipython-input-1853856825.py:25: UserWarning: The argument 'infer_datetime_format' is deprecated and will be removed in a future version. A strict version of it is now the default, see https://pandas.pydata.org/pdeps/0004-consistent-to-datetime-parsing.html. You can safely remove this argument.\n",
            "  df['Ship Date'] = pd.to_datetime(df['Ship Date'], errors='coerce', infer_datetime_format=True)\n"
          ]
        }
      ],
      "source": [
        "print(\"Upload the Superstore dataset file (CSV):\")\n",
        "uploaded = files.upload()\n",
        "file_name = list(uploaded.keys())[0]\n",
        "print(f\"File uploaded: {file_name}\")\n",
        "\n",
        "\n",
        "try:\n",
        "    df = pd.read_csv(file_name, encoding='utf-8')\n",
        "except UnicodeDecodeError:\n",
        "    df = pd.read_csv(file_name, encoding='latin1')\n",
        "\n",
        "\n",
        "print(\"\\nFirst 5 rows:\")\n",
        "print(df.head())\n",
        "\n",
        "\n",
        "print(\"\\nInformation about structure and data types:\")\n",
        "print(df.info())\n",
        "\n",
        "\n",
        "print(\"\\nNumber of missing values per column:\")\n",
        "print(df.isnull().sum())\n",
        "\n",
        "\n",
        "print(\"\\nUnique values in Order Date and Ship Date (first 5):\")\n",
        "print(df['Order Date'].unique()[:5])\n",
        "print(df['Ship Date'].unique()[:5])\n",
        "\n",
        "\n",
        "df['Order Date'] = pd.to_datetime(df['Order Date'], errors='coerce', infer_datetime_format=True)\n",
        "df['Ship Date'] = pd.to_datetime(df['Ship Date'], errors='coerce', infer_datetime_format=True)\n",
        "\n",
        "\n",
        "print(\"\\nDates after conversion:\")\n",
        "print(df[['Order Date', 'Ship Date']].head())\n"
      ]
    },
    {
      "cell_type": "markdown",
      "metadata": {
        "id": "dpiN9qV_Z-Lg"
      },
      "source": [
        "saving preproced data"
      ]
    },
    {
      "cell_type": "code",
      "execution_count": null,
      "metadata": {
        "id": "UicyX8GLZ_S-",
        "colab": {
          "base_uri": "https://localhost:8080/"
        },
        "outputId": "e2448a7e-f66f-4742-e579-7d5288c086fb"
      },
      "outputs": [
        {
          "output_type": "stream",
          "name": "stdout",
          "text": [
            "Сохранено: E:/intern/etl + power bi/processed_superstore.csv\n"
          ]
        }
      ],
      "source": [
        "processed_file_name = os.path.join(save_folder, \"processed_superstore.csv\")\n",
        "df.to_csv(processed_file_name, index=False)\n",
        "print(f\"Saved: {processed_file_name}\")"
      ]
    },
    {
      "cell_type": "markdown",
      "metadata": {
        "id": "1tM3y9iyZ_fK"
      },
      "source": [
        "Initial Load: function for creating an initial load\n",
        "(creating an initial data slice)"
      ]
    },
    {
      "cell_type": "code",
      "execution_count": null,
      "metadata": {
        "id": "072JuoBmaB-D",
        "colab": {
          "base_uri": "https://localhost:8080/"
        },
        "outputId": "f33fb5f0-6479-4b78-a757-6fcbf311f0ec"
      },
      "outputs": [
        {
          "output_type": "stream",
          "name": "stdout",
          "text": [
            "Initial Load создан, строк: 4095\n"
          ]
        }
      ],
      "source": [
        "def create_initial_load(df, cutoff_date_str):\n",
        "    cutoff_date = pd.to_datetime(cutoff_date_str)\n",
        "    if df['Order Date'].dtype == 'object':\n",
        "        df['Order Date'] = pd.to_datetime(df['Order Date'], errors='coerce')\n",
        "    initial_load_df = df[df['Order Date'] < cutoff_date].copy().reset_index(drop=True)\n",
        "    return initial_load_df\n",
        "\n",
        "initial_load = create_initial_load(df, '2016-01-01')\n",
        "print(f\"Initial Load created, rows: {len(initial_load)}\")\n"
      ]
    },
    {
      "cell_type": "markdown",
      "source": [
        "saving Initial Load data"
      ],
      "metadata": {
        "id": "vetI7etu--y2"
      }
    },
    {
      "cell_type": "code",
      "source": [
        "initial_load_file = os.path.join(save_folder, \"initial_load_superstore.csv\")\n",
        "initial_load.to_csv(initial_load_file, index=False)\n",
        "print(f\"Сохранено: {initial_load_file}\")"
      ],
      "metadata": {
        "colab": {
          "base_uri": "https://localhost:8080/"
        },
        "id": "8VyR6pK6_AWF",
        "outputId": "21c2238f-9a5d-4059-d0af-703745356fd7"
      },
      "execution_count": null,
      "outputs": [
        {
          "output_type": "stream",
          "name": "stdout",
          "text": [
            "Сохранено: E:/intern/etl + power bi/initial_load_superstore.csv\n"
          ]
        }
      ]
    },
    {
      "cell_type": "markdown",
      "source": [
        "Secondary Load: a function for creating a secondary load with new, modified, duplicates (we create a secondary slice with changes)"
      ],
      "metadata": {
        "id": "cE_KZgx8_Drg"
      }
    },
    {
      "cell_type": "code",
      "source": [
        "def create_secondary_load(df, cutoff_date_str, initial_load):\n",
        "    cutoff_date = pd.to_datetime(cutoff_date_str)\n",
        "    secondary_df = df[df['Order Date'] >= cutoff_date].copy().reset_index(drop=True)\n",
        "\n",
        "    max_ord_num = initial_load['Order ID'].apply(\n",
        "        lambda x: int(x.split('-')[-1]) if isinstance(x, str) and '-' in x else 0).max()\n",
        "\n",
        "    # New records\n",
        "    new_records = secondary_df.head(3).copy()\n",
        "    for i in range(3):\n",
        "        new_records.at[i, 'Order ID'] = f\"NEW-{max_ord_num + i + 1}\"\n",
        "        new_records.at[i, 'Customer ID'] = f\"NEW-CUST-{i + 1}\"\n",
        "        new_records.at[i, 'Order Date'] = cutoff_date + pd.Timedelta(days=i + 10)\n",
        "    secondary_df = pd.concat([secondary_df, new_records], ignore_index=True)\n",
        "\n",
        "    # SCD Type 1 changes\n",
        "    scd1_indices = secondary_df.sample(3, random_state=42).index\n",
        "    for idx in scd1_indices:\n",
        "        old_segment = secondary_df.at[idx, 'Segment']\n",
        "        secondary_df.at[idx, 'Segment'] = 'Corporate' if old_segment != 'Corporate' else 'Consumer'\n",
        "\n",
        "    # SCD Type 2 changes\n",
        "    scd2_samples = secondary_df.sample(2, random_state=24).copy()\n",
        "    for i, idx in enumerate(scd2_samples.index):\n",
        "        row = secondary_df.loc[idx]\n",
        "        new_row = row.copy()\n",
        "        new_row['Order ID'] = f\"{row['Order ID']}_ver2\"\n",
        "        new_row['Customer ID'] = f\"{row['Customer ID']}_ver2\"\n",
        "        new_row['City'] = 'NewCity'\n",
        "        new_row['Order Date'] = row['Order Date'] + pd.Timedelta(days=30 + i * 5)\n",
        "        secondary_df = pd.concat([secondary_df, pd.DataFrame([new_row])], ignore_index=True)\n",
        "\n",
        "    # Duplicates from Initial Load\n",
        "    duplicates = initial_load.sample(2, random_state=7)\n",
        "    secondary_df = pd.concat([secondary_df, duplicates], ignore_index=True)\n",
        "\n",
        "    secondary_df.reset_index(drop=True, inplace=True)\n",
        "    return secondary_df\n",
        "\n",
        "secondary_load = create_secondary_load(df, '2016-01-01', initial_load)\n",
        "print(f\"Secondary Load created, rows: {len(secondary_load)}\")\n"
      ],
      "metadata": {
        "colab": {
          "base_uri": "https://localhost:8080/"
        },
        "id": "RekoWhOx_GF9",
        "outputId": "c3bc8f85-0010-4707-a806-470b35edde52"
      },
      "execution_count": null,
      "outputs": [
        {
          "output_type": "stream",
          "name": "stdout",
          "text": [
            "Secondary Load создан, строк: 5906\n"
          ]
        }
      ]
    },
    {
      "cell_type": "markdown",
      "source": [
        "saving Secondary Load data"
      ],
      "metadata": {
        "id": "pk2yVdqZ_KOb"
      }
    },
    {
      "cell_type": "code",
      "source": [
        "secondary_load_file = os.path.join(save_folder, \"secondary_load_superstore.csv\")\n",
        "secondary_load.to_csv(secondary_load_file, index=False)\n",
        "print(f\"Saved: {secondary_load_file}\")"
      ],
      "metadata": {
        "colab": {
          "base_uri": "https://localhost:8080/"
        },
        "id": "5tmrE3DN_L0f",
        "outputId": "ce717bc8-31a2-4692-8002-7ebab816dd15"
      },
      "execution_count": null,
      "outputs": [
        {
          "output_type": "stream",
          "name": "stdout",
          "text": [
            "Сохранено: E:/intern/etl + power bi/secondary_load_superstore.csv\n"
          ]
        }
      ]
    }
  ],
  "metadata": {
    "colab": {
      "provenance": [],
      "authorship_tag": "ABX9TyO8HIlJ1x2o1qAJHOHuUMYY",
      "include_colab_link": true
    },
    "kernelspec": {
      "display_name": "Python 3",
      "name": "python3"
    },
    "language_info": {
      "name": "python"
    }
  },
  "nbformat": 4,
  "nbformat_minor": 0
}